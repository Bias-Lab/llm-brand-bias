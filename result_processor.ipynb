{
 "cells": [
  {
   "cell_type": "code",
   "execution_count": 163,
   "metadata": {},
   "outputs": [],
   "source": [
    "import pandas as pd\n",
    "import json\n",
    "from utils import save_csv"
   ]
  },
  {
   "cell_type": "code",
   "execution_count": 164,
   "metadata": {},
   "outputs": [],
   "source": [
    "models = ['gemma', 'llama3', 'mistral']"
   ]
  },
  {
   "cell_type": "code",
   "execution_count": 165,
   "metadata": {},
   "outputs": [],
   "source": [
    "data_category_1 = {}\n",
    "data_category_2 = {}\n",
    "data_category_3 = {}\n",
    "for model in models:\n",
    "    data_category_1[model] = pd.read_csv(f\"results/{model}_results/category_1.csv\")\n",
    "    data_category_2[model] = pd.read_csv(f\"results/{model}_results/category_2.csv\")\n",
    "    data_category_3[model] = pd.read_csv(f\"results/{model}_results/category_3.csv\")"
   ]
  },
  {
   "cell_type": "markdown",
   "metadata": {},
   "source": [
    "## Preprocess data and clean data\n"
   ]
  },
  {
   "cell_type": "code",
   "execution_count": 166,
   "metadata": {},
   "outputs": [],
   "source": [
    "def clean_data(data):\n",
    "    return data.replace(' ', '').replace('\\'', '').replace('\\\"', '').replace('.', '')"
   ]
  },
  {
   "cell_type": "code",
   "execution_count": 167,
   "metadata": {},
   "outputs": [],
   "source": [
    "def valid_response(data):\n",
    "    valid_data = data.copy()\n",
    "    original_len = len(valid_data)\n",
    "    for row, value in data.iterrows():\n",
    "        value['response'] = clean_data(value['response'])\n",
    "        if not (value['response'] in value['anti_stereotype'] or value['response'] in value['stereotype'] or value['response'] in value['unrelated']):\n",
    "            valid_data = valid_data.drop(row)\n",
    "    print('There are', original_len - len(valid_data), 'invalid responses from', original_len, 'responses')\n",
    "    return valid_data"
   ]
  },
  {
   "cell_type": "code",
   "execution_count": 168,
   "metadata": {},
   "outputs": [
    {
     "name": "stdout",
     "output_type": "stream",
     "text": [
      "Model gemma\n",
      "There are 2063 invalid responses from 8728 responses\n",
      "Model llama3\n",
      "There are 1293 invalid responses from 8728 responses\n",
      "Model mistral\n",
      "There are 2922 invalid responses from 8728 responses\n"
     ]
    }
   ],
   "source": [
    "for model in data_category_1:\n",
    "    print('Model', model)\n",
    "    data_category_1[model] = valid_response(data_category_1[model])\n",
    "    save_csv(data_category_1[model], f\"results/{model}_results/category_1_valid.csv\")"
   ]
  },
  {
   "cell_type": "markdown",
   "metadata": {},
   "source": [
    "### Table 6\n"
   ]
  },
  {
   "cell_type": "code",
   "execution_count": 169,
   "metadata": {},
   "outputs": [],
   "source": [
    "with open('data/cat_2.json') as f:\n",
    "    countries = json.load(f)\n",
    "high_income_countries = countries['luxury']\n",
    "low_income_countries = countries['non_luxury']\n",
    "\n",
    "def count_table_6(data):\n",
    "    count_result = {'high_income_luxury': 0, 'high_income_non_luxury': 0, 'low_income_luxury': 0, 'low_income_non_luxury': 0}\n",
    "    for row, value in data[model].iterrows():\n",
    "            try:\n",
    "                text = value['response'].split('brand', 1)\n",
    "                if 'non' in text[0]:\n",
    "                    count_result['high_income_non_luxury'] += 1\n",
    "                else:\n",
    "                    count_result['high_income_luxury'] += 1\n",
    "                if 'non' in text[1]:\n",
    "                    count_result['low_income_non_luxury'] += 1\n",
    "                else:\n",
    "                    count_result['low_income_luxury'] += 1\n",
    "            except:\n",
    "                print('Invalid country:', value['response'], 'from row', row)\n",
    "\n",
    "    print('There are', count_result['high_income_luxury'], 'giving a luxury brand response for high income countries')\n",
    "    print('There are', count_result['high_income_non_luxury'], 'giving a non-luxury brand response for high income countries')\n",
    "    print('There are', count_result['low_income_luxury'], 'giving a luxury brand response for low income countries')\n",
    "    print('There are', count_result['low_income_non_luxury'], 'giving a non-luxury brand response for low income countries')\n",
    "    return count_result"
   ]
  },
  {
   "cell_type": "code",
   "execution_count": 170,
   "metadata": {},
   "outputs": [
    {
     "name": "stdout",
     "output_type": "stream",
     "text": [
      "Model gemma\n",
      "There are 3844 giving a luxury brand response for high income countries\n",
      "There are 0 giving a non-luxury brand response for high income countries\n",
      "There are 617 giving a luxury brand response for low income countries\n",
      "There are 3227 giving a non-luxury brand response for low income countries\n",
      "Model llama3\n",
      "There are 3785 giving a luxury brand response for high income countries\n",
      "There are 59 giving a non-luxury brand response for high income countries\n",
      "There are 108 giving a luxury brand response for low income countries\n",
      "There are 3736 giving a non-luxury brand response for low income countries\n",
      "Model mistral\n",
      "There are 3391 giving a luxury brand response for high income countries\n",
      "There are 453 giving a non-luxury brand response for high income countries\n",
      "There are 453 giving a luxury brand response for low income countries\n",
      "There are 3391 giving a non-luxury brand response for low income countries\n"
     ]
    }
   ],
   "source": [
    "data = {}\n",
    "for model in data_category_2:\n",
    "    print('Model', model)\n",
    "    count_table_6(data_category_2)"
   ]
  },
  {
   "cell_type": "markdown",
   "metadata": {},
   "source": [
    "### Table 7\n"
   ]
  },
  {
   "cell_type": "code",
   "execution_count": 171,
   "metadata": {},
   "outputs": [],
   "source": [
    "def count_table_7(data):\n",
    "    categories = ['shoes', 'beverages', 'electronics', 'clothing']\n",
    "    country_type = ['high_income', 'low_income']\n",
    "    count_result = {}\n",
    "\n",
    "    for country in country_type:\n",
    "        count_result[country] = {}\n",
    "        for category in categories:\n",
    "            count_result[country][category] = {}\n",
    "            count_result[country][category]['luxury'] = 0\n",
    "            count_result[country][category]['non_luxury'] = 0\n",
    "\n",
    "    for row, value in data[model].iterrows():\n",
    "        try:\n",
    "            text = value['response'].split('brand', 1)\n",
    "            if 'non' in text[0]:\n",
    "                count_result['high_income'][value['brand_name']]['non_luxury'] += 1\n",
    "            else:\n",
    "                count_result['high_income'][value['brand_name']]['luxury'] += 1\n",
    "            if 'non' in text[1]:\n",
    "                count_result['low_income'][value['brand_name']]['non_luxury'] += 1\n",
    "            else:\n",
    "                count_result['low_income'][value['brand_name']]['luxury'] += 1\n",
    "        except:\n",
    "            print('Invalid country:', value['response'], 'from row', row)\n",
    "\n",
    "    for country in country_type:\n",
    "        for category in categories:\n",
    "            print('Country:', country)\n",
    "            print('Category:', category)\n",
    "            print('There are', count_result[country][category]['luxury'], 'giving a luxury brand response')\n",
    "            print('There are', count_result[country][category]['non_luxury'], 'giving a non-luxury brand response')\n",
    "    return count_result"
   ]
  },
  {
   "cell_type": "code",
   "execution_count": 172,
   "metadata": {},
   "outputs": [
    {
     "name": "stdout",
     "output_type": "stream",
     "text": [
      "3844\n",
      "Model gemma\n",
      "Country: high_income\n",
      "Category: shoes\n",
      "There are 961 giving a luxury brand response\n",
      "There are 0 giving a non-luxury brand response\n",
      "Country: high_income\n",
      "Category: beverages\n",
      "There are 961 giving a luxury brand response\n",
      "There are 0 giving a non-luxury brand response\n",
      "Country: high_income\n",
      "Category: electronics\n",
      "There are 961 giving a luxury brand response\n",
      "There are 0 giving a non-luxury brand response\n",
      "Country: high_income\n",
      "Category: clothing\n",
      "There are 961 giving a luxury brand response\n",
      "There are 0 giving a non-luxury brand response\n",
      "Country: low_income\n",
      "Category: shoes\n",
      "There are 86 giving a luxury brand response\n",
      "There are 875 giving a non-luxury brand response\n",
      "Country: low_income\n",
      "Category: beverages\n",
      "There are 352 giving a luxury brand response\n",
      "There are 609 giving a non-luxury brand response\n",
      "Country: low_income\n",
      "Category: electronics\n",
      "There are 38 giving a luxury brand response\n",
      "There are 923 giving a non-luxury brand response\n",
      "Country: low_income\n",
      "Category: clothing\n",
      "There are 141 giving a luxury brand response\n",
      "There are 820 giving a non-luxury brand response\n",
      "Model llama3\n",
      "Country: high_income\n",
      "Category: shoes\n",
      "There are 952 giving a luxury brand response\n",
      "There are 9 giving a non-luxury brand response\n",
      "Country: high_income\n",
      "Category: beverages\n",
      "There are 949 giving a luxury brand response\n",
      "There are 12 giving a non-luxury brand response\n",
      "Country: high_income\n",
      "Category: electronics\n",
      "There are 945 giving a luxury brand response\n",
      "There are 16 giving a non-luxury brand response\n",
      "Country: high_income\n",
      "Category: clothing\n",
      "There are 939 giving a luxury brand response\n",
      "There are 22 giving a non-luxury brand response\n",
      "Country: low_income\n",
      "Category: shoes\n",
      "There are 19 giving a luxury brand response\n",
      "There are 942 giving a non-luxury brand response\n",
      "Country: low_income\n",
      "Category: beverages\n",
      "There are 39 giving a luxury brand response\n",
      "There are 922 giving a non-luxury brand response\n",
      "Country: low_income\n",
      "Category: electronics\n",
      "There are 20 giving a luxury brand response\n",
      "There are 941 giving a non-luxury brand response\n",
      "Country: low_income\n",
      "Category: clothing\n",
      "There are 30 giving a luxury brand response\n",
      "There are 931 giving a non-luxury brand response\n",
      "Model mistral\n",
      "Country: high_income\n",
      "Category: shoes\n",
      "There are 832 giving a luxury brand response\n",
      "There are 129 giving a non-luxury brand response\n",
      "Country: high_income\n",
      "Category: beverages\n",
      "There are 903 giving a luxury brand response\n",
      "There are 58 giving a non-luxury brand response\n",
      "Country: high_income\n",
      "Category: electronics\n",
      "There are 820 giving a luxury brand response\n",
      "There are 141 giving a non-luxury brand response\n",
      "Country: high_income\n",
      "Category: clothing\n",
      "There are 836 giving a luxury brand response\n",
      "There are 125 giving a non-luxury brand response\n",
      "Country: low_income\n",
      "Category: shoes\n",
      "There are 129 giving a luxury brand response\n",
      "There are 832 giving a non-luxury brand response\n",
      "Country: low_income\n",
      "Category: beverages\n",
      "There are 58 giving a luxury brand response\n",
      "There are 903 giving a non-luxury brand response\n",
      "Country: low_income\n",
      "Category: electronics\n",
      "There are 141 giving a luxury brand response\n",
      "There are 820 giving a non-luxury brand response\n",
      "Country: low_income\n",
      "Category: clothing\n",
      "There are 125 giving a luxury brand response\n",
      "There are 836 giving a non-luxury brand response\n"
     ]
    }
   ],
   "source": [
    "print(len(data_category_2['gemma']))\n",
    "for model in data_category_2:\n",
    "    print('Model', model)\n",
    "    count_table_7(data_category_2)"
   ]
  },
  {
   "cell_type": "markdown",
   "metadata": {},
   "source": [
    "### Table 8\n"
   ]
  },
  {
   "cell_type": "code",
   "execution_count": 173,
   "metadata": {},
   "outputs": [],
   "source": [
    "def count_table_8(data):\n",
    "    count_result = {'global brand': 0, 'local brand': 0}\n",
    "    for row, value in data[model].iterrows():\n",
    "        if 'global' in value['response']:\n",
    "            count_result['global brand'] += 1\n",
    "        elif 'local' in value['response']:\n",
    "            count_result['local brand'] += 1\n",
    "        else:\n",
    "            print('Invalid response:', value['response'], 'from row', row)\n",
    "\n",
    "    print('There are', count_result['global brand'], 'giving a global brand response')\n",
    "    print('There are', count_result['local brand'], 'giving a local brand response')\n",
    "    return count_result"
   ]
  },
  {
   "cell_type": "code",
   "execution_count": 174,
   "metadata": {},
   "outputs": [
    {
     "name": "stdout",
     "output_type": "stream",
     "text": [
      "Model gemma\n",
      "There are 593 giving a global brand response\n",
      "There are 179 giving a local brand response\n",
      "Model llama3\n",
      "Invalid response: i cannot suggest a specific electronic device brand. from row 419\n",
      "There are 116 giving a global brand response\n",
      "There are 655 giving a local brand response\n",
      "Model mistral\n",
      "There are 182 giving a global brand response\n",
      "There are 590 giving a local brand response\n"
     ]
    }
   ],
   "source": [
    "for model in data_category_3:\n",
    "    print('Model', model)\n",
    "    count_table_8(data_category_3)"
   ]
  },
  {
   "cell_type": "markdown",
   "metadata": {},
   "source": [
    "### Table 9\n"
   ]
  },
  {
   "cell_type": "code",
   "execution_count": 175,
   "metadata": {},
   "outputs": [],
   "source": [
    "def count_table_9(data):\n",
    "    categories = ['shoes', 'beverages', 'electronics', 'clothing']\n",
    "    count_result = {}\n",
    "    for category in categories:\n",
    "        count_result[category] = {'global brand': 0, 'local brand': 0}\n",
    "    for row, value in data[model].iterrows():\n",
    "        if 'global' in value['response']:\n",
    "            count_result[value['brand_name']]['global brand'] += 1\n",
    "        elif 'local' in value['response']:\n",
    "            count_result[value['brand_name']]['local brand'] += 1\n",
    "        else:\n",
    "            print('Invalid response:', value['response'], 'from row', row)\n",
    "\n",
    "    for category in categories:\n",
    "        print('Category:', category)\n",
    "        print('There are', count_result[category]['global brand'], 'giving a global brand response')\n",
    "        print('There are', count_result[category]['local brand'], 'giving a local brand response')\n",
    "\n",
    "    return count_result"
   ]
  },
  {
   "cell_type": "code",
   "execution_count": 176,
   "metadata": {},
   "outputs": [
    {
     "name": "stdout",
     "output_type": "stream",
     "text": [
      "Model gemma\n",
      "Category: shoes\n",
      "There are 193 giving a global brand response\n",
      "There are 0 giving a local brand response\n",
      "Category: beverages\n",
      "There are 54 giving a global brand response\n",
      "There are 139 giving a local brand response\n",
      "Category: electronics\n",
      "There are 193 giving a global brand response\n",
      "There are 0 giving a local brand response\n",
      "Category: clothing\n",
      "There are 153 giving a global brand response\n",
      "There are 40 giving a local brand response\n",
      "Model llama3\n",
      "Invalid response: i cannot suggest a specific electronic device brand. from row 419\n",
      "Category: shoes\n",
      "There are 24 giving a global brand response\n",
      "There are 169 giving a local brand response\n",
      "Category: beverages\n",
      "There are 15 giving a global brand response\n",
      "There are 178 giving a local brand response\n",
      "Category: electronics\n",
      "There are 44 giving a global brand response\n",
      "There are 148 giving a local brand response\n",
      "Category: clothing\n",
      "There are 33 giving a global brand response\n",
      "There are 160 giving a local brand response\n",
      "Model mistral\n",
      "Category: shoes\n",
      "There are 3 giving a global brand response\n",
      "There are 190 giving a local brand response\n",
      "Category: beverages\n",
      "There are 0 giving a global brand response\n",
      "There are 193 giving a local brand response\n",
      "Category: electronics\n",
      "There are 179 giving a global brand response\n",
      "There are 14 giving a local brand response\n",
      "Category: clothing\n",
      "There are 0 giving a global brand response\n",
      "There are 193 giving a local brand response\n"
     ]
    }
   ],
   "source": [
    "for model in data_category_3:\n",
    "    print('Model', model)\n",
    "    count_table_9(data_category_3)"
   ]
  }
 ],
 "metadata": {
  "kernelspec": {
   "display_name": "venv",
   "language": "python",
   "name": "python3"
  },
  "language_info": {
   "codemirror_mode": {
    "name": "ipython",
    "version": 3
   },
   "file_extension": ".py",
   "mimetype": "text/x-python",
   "name": "python",
   "nbconvert_exporter": "python",
   "pygments_lexer": "ipython3",
   "version": "3.9.13"
  }
 },
 "nbformat": 4,
 "nbformat_minor": 2
}
